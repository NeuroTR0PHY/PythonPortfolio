{
 "cells": [
  {
   "cell_type": "code",
   "execution_count": 1,
   "id": "85d40b33-6f8d-47b1-8853-203b58010b65",
   "metadata": {},
   "outputs": [
    {
     "name": "stdout",
     "output_type": "stream",
     "text": [
      "This will print.\n"
     ]
    }
   ],
   "source": [
    "print(\"This will print.\")"
   ]
  },
  {
   "cell_type": "code",
   "execution_count": 2,
   "id": "e72a0f50-d25c-4d38-a5b9-b7a135cb198b",
   "metadata": {},
   "outputs": [
    {
     "name": "stdout",
     "output_type": "stream",
     "text": [
      "x equalled 1\n"
     ]
    }
   ],
   "source": [
    "x=1\n",
    "if x==1:\n",
    "    print(\"x equalled 1\")"
   ]
  },
  {
   "cell_type": "code",
   "execution_count": 3,
   "id": "e83cf167-6569-494e-947d-9e0f02f7129f",
   "metadata": {},
   "outputs": [
    {
     "name": "stdout",
     "output_type": "stream",
     "text": [
      "7\n"
     ]
    }
   ],
   "source": [
    "myint = 7\n",
    "print(myint)"
   ]
  },
  {
   "cell_type": "code",
   "execution_count": 5,
   "id": "a40ebec3-ced9-44e7-90b5-0706269f1f0d",
   "metadata": {},
   "outputs": [
    {
     "name": "stdout",
     "output_type": "stream",
     "text": [
      "7.0\n",
      "7.0\n"
     ]
    }
   ],
   "source": [
    "myint = 7.0\n",
    "print(myint)\n",
    "myint = float(7)\n",
    "print(myint)"
   ]
  },
  {
   "cell_type": "code",
   "execution_count": 7,
   "id": "8df773c1-3c6d-427b-8736-af651ea385d4",
   "metadata": {},
   "outputs": [
    {
     "name": "stdout",
     "output_type": "stream",
     "text": [
      "3\n",
      "hello world\n"
     ]
    }
   ],
   "source": [
    "one = 1\n",
    "two = 2\n",
    "three = one + two\n",
    "print(three)\n",
    "\n",
    "hello=\"hello\"\n",
    "world=\"world\"\n",
    "helloworld = hello + \" \" + world\n",
    "print(helloworld)\n"
   ]
  },
  {
   "cell_type": "code",
   "execution_count": null,
   "id": "3060790f-4a97-46e6-94b5-bb0eeac5caa2",
   "metadata": {},
   "outputs": [],
   "source": []
  }
 ],
 "metadata": {
  "kernelspec": {
   "display_name": "Python 3 (ipykernel)",
   "language": "python",
   "name": "python3"
  },
  "language_info": {
   "codemirror_mode": {
    "name": "ipython",
    "version": 3
   },
   "file_extension": ".py",
   "mimetype": "text/x-python",
   "name": "python",
   "nbconvert_exporter": "python",
   "pygments_lexer": "ipython3",
   "version": "3.9.5"
  }
 },
 "nbformat": 4,
 "nbformat_minor": 5
}
